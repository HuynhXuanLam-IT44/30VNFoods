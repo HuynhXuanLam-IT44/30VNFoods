{
  "cells": [
    {
      "cell_type": "code",
      "execution_count": null,
      "metadata": {
        "colab": {
          "base_uri": "https://localhost:8080/"
        },
        "id": "7fySQ-xR0UQl",
        "outputId": "0f61a43f-ffc2-457e-851f-0077b9b36f7b"
      },
      "outputs": [
        {
          "name": "stdout",
          "output_type": "stream",
          "text": [
            "Retrieving speedtest.net configuration...\n",
            "Testing from Google Cloud (34.77.0.22)...\n",
            "Retrieving speedtest.net server list...\n",
            "Selecting best server based on ping...\n",
            "Hosted by Combell (Brussels) [2.15 km]: 10.749 ms\n",
            "Testing download speed................................................................................\n",
            "Download: 1108.16 Mbit/s\n",
            "Testing upload speed......................................................................................................\n",
            "Upload: 787.57 Mbit/s\n"
          ]
        }
      ],
      "source": [
        "import tensorflow as tf\n",
        "import matplotlib.pyplot as plt\n",
        "import h5py\n",
        "\n",
        "tf.get_logger().setLevel('ERROR')\n",
        "!curl -s https://raw.githubusercontent.com/sivel/speedtest-cli/master/speedtest.py | python -"
      ]
    },
    {
      "cell_type": "markdown",
      "metadata": {
        "id": "ctWb-L9j3yWg"
      },
      "source": [
        "# Import dataset"
      ]
    },
    {
      "cell_type": "code",
      "execution_count": null,
      "metadata": {
        "id": "WatJhyRp3yWg"
      },
      "outputs": [],
      "source": [
        "from google.colab import drive\n",
        "import os\n",
        "\n",
        "drive.mount('/content/GoogleDrive', force_remount=True)\n",
        "path = '/content/GoogleDrive/My Drive/Vietnamese Foods'\n",
        "os.chdir(path)\n",
        "!ls"
      ]
    },
    {
      "cell_type": "code",
      "execution_count": null,
      "metadata": {
        "id": "Hu5djSU43yWg"
      },
      "outputs": [],
      "source": [
        "# Move dataset to /tmp cause reading files from Drive is very slow\r\n",
        "!cp Dataset/vietnamese-foods-split.zip /tmp\r\n",
        "!unzip -q /tmp/vietnamese-foods-split.zip -d /tmp"
      ]
    },
    {
      "cell_type": "markdown",
      "metadata": {
        "id": "O2ybiwJ0fS0R"
      },
      "source": [
        "## Check GPU working"
      ]
    },
    {
      "cell_type": "code",
      "execution_count": null,
      "metadata": {
        "id": "_Kz2PYg_fRD_"
      },
      "outputs": [],
      "source": [
        "physical_devices = tf.config.list_physical_devices('GPU') \n",
        "tf.config.experimental.set_memory_growth(physical_devices[0], True)"
      ]
    },
    {
      "cell_type": "code",
      "execution_count": null,
      "metadata": {
        "colab": {
          "base_uri": "https://localhost:8080/"
        },
        "id": "tjrkHvBPfVDL",
        "outputId": "0ce1d400-d49a-43e8-e14c-513969fc8a33"
      },
      "outputs": [
        {
          "name": "stdout",
          "output_type": "stream",
          "text": [
            "Found GPU at: /device:GPU:0\n"
          ]
        }
      ],
      "source": [
        "device_name = tf.test.gpu_device_name()\n",
        "if device_name != '/device:GPU:0': raise SystemError('GPU device not found')\n",
        "print('Found GPU at:', device_name)"
      ]
    },
    {
      "cell_type": "markdown",
      "metadata": {
        "id": "8PbvhOfb6x6o"
      },
      "source": [
        "# Setup path"
      ]
    },
    {
      "cell_type": "code",
      "execution_count": null,
      "metadata": {
        "id": "TBs9QVym6zYz"
      },
      "outputs": [],
      "source": [
        "TRAIN_PATH = '/tmp/Images/Train'\n",
        "VALIDATE_PATH = '/tmp/Images/Validate'\n",
        "TEST_PATH = '/tmp/Images/Test'"
      ]
    },
    {
      "cell_type": "code",
      "execution_count": null,
      "metadata": {
        "id": "K_g6h0OW60X_"
      },
      "outputs": [],
      "source": [
        "PATH = 'Models/InceptionResNetV2'\n",
        "\n",
        "BASE_MODEL_BEST = os.path.join(PATH, 'base_model_best.hdf5')\n",
        "BASE_MODEL_TRAINED = os.path.join(PATH, 'base_model_trained.hdf5')\n",
        "BASE_MODEL_FIG = os.path.join(PATH, 'base_model_fig.jpg')\n",
        "\n",
        "FINE_TUNE_MODEL_BEST = os.path.join(PATH, 'fine_tune_model_best.hdf5')\n",
        "FINE_TUNE_MODEL_TRAINED = os.path.join(PATH, 'fine_tune_model_trained.hdf5')\n",
        "FINE_TUNE_MODE_FIG = os.path.join(PATH, 'fine_tune_model_fig.jpg')"
      ]
    },
    {
      "cell_type": "markdown",
      "metadata": {
        "id": "Dt8mtwjLlFii"
      },
      "source": [
        "# Preparing data"
      ]
    },
    {
      "cell_type": "code",
      "execution_count": null,
      "metadata": {
        "id": "YrUH6HT06_N7"
      },
      "outputs": [],
      "source": [
        "IMAGE_SIZE = (300, 300)\n",
        "BATCH_SIZE = 128"
      ]
    },
    {
      "cell_type": "code",
      "execution_count": null,
      "metadata": {
        "id": "_-_wF6-g7AnR"
      },
      "outputs": [],
      "source": [
        "from tensorflow.keras.preprocessing.image import ImageDataGenerator\n",
        "train_generator = ImageDataGenerator(\n",
        "    rescale = 1./255,\n",
        "    rotation_range = 40, \n",
        "    width_shift_range = 0.2, \n",
        "    height_shift_range = 0.2,\n",
        "    shear_range = 0.2,\n",
        "    zoom_range = 0.2,\n",
        "    horizontal_flip = True\n",
        ")\n",
        "validate_generator = ImageDataGenerator(rescale=1./255)\n",
        "test_generator = ImageDataGenerator(rescale=1./255)"
      ]
    },
    {
      "cell_type": "code",
      "execution_count": null,
      "metadata": {
        "colab": {
          "base_uri": "https://localhost:8080/"
        },
        "id": "opfyTGQAb-wE",
        "outputId": "5476ff8c-ffb1-4ca4-e4a6-a9702539975a"
      },
      "outputs": [
        {
          "name": "stdout",
          "output_type": "stream",
          "text": [
            "Found 17581 images belonging to 30 classes.\n",
            "Found 2515 images belonging to 30 classes.\n",
            "Found 5040 images belonging to 30 classes.\n"
          ]
        }
      ],
      "source": [
        "generated_train_data = train_generator.flow_from_directory(TRAIN_PATH, target_size=IMAGE_SIZE, batch_size=BATCH_SIZE)\n",
        "generated_validate_data = validate_generator.flow_from_directory(VALIDATE_PATH, target_size=IMAGE_SIZE, batch_size=BATCH_SIZE)\n",
        "generated_test_data = test_generator.flow_from_directory(TEST_PATH, target_size=IMAGE_SIZE)"
      ]
    },
    {
      "cell_type": "markdown",
      "metadata": {
        "id": "AnHKGG76uu67"
      },
      "source": [
        "# Model implement"
      ]
    },
    {
      "cell_type": "code",
      "execution_count": null,
      "metadata": {
        "id": "LJNzUVxP7BvF"
      },
      "outputs": [],
      "source": [
        "CLASSES = 30\n",
        "INITIAL_EPOCHS = 15\n",
        "FINE_TUNE_EPOCHS = 15\n",
        "TOTAL_EPOCHS = INITIAL_EPOCHS + FINE_TUNE_EPOCHS\n",
        "FINE_TUNE_AT = 711"
      ]
    },
    {
      "cell_type": "markdown",
      "metadata": {
        "id": "fjn_OsMvxoMj"
      },
      "source": [
        "## Define the model"
      ]
    },
    {
      "cell_type": "code",
      "execution_count": null,
      "metadata": {
        "id": "rraP255Jdy2s"
      },
      "outputs": [],
      "source": [
        "from tensorflow.keras.applications.inception_resnet_v2 import InceptionResNetV2\n",
        "from tensorflow.keras.layers import GlobalAveragePooling2D, Dense, Dropout\n",
        "from tensorflow.keras.models import Model"
      ]
    },
    {
      "cell_type": "code",
      "execution_count": null,
      "metadata": {
        "colab": {
          "base_uri": "https://localhost:8080/"
        },
        "id": "Rsunp70veV2j",
        "outputId": "05fa04b3-2e11-4abd-ffa9-b948ab2b7122"
      },
      "outputs": [
        {
          "name": "stdout",
          "output_type": "stream",
          "text": [
            "Downloading data from https://storage.googleapis.com/tensorflow/keras-applications/inception_resnet_v2/inception_resnet_v2_weights_tf_dim_ordering_tf_kernels_notop.h5\n",
            "219062272/219055592 [==============================] - 2s 0us/step\n"
          ]
        }
      ],
      "source": [
        "pretrained_model = InceptionResNetV2(weights='imagenet', include_top=False)\n",
        "last_output = pretrained_model.output\n",
        "x = GlobalAveragePooling2D()(last_output)\n",
        "x = Dense(512, activation='relu')(x)\n",
        "x = Dropout(0.2)(x)\n",
        "outputs = Dense(CLASSES, activation='softmax')(x)\n",
        "model = Model(inputs=pretrained_model.input, outputs=outputs)"
      ]
    },
    {
      "cell_type": "markdown",
      "metadata": {
        "id": "02WLrrF1xqb4"
      },
      "source": [
        "## Callbacks"
      ]
    },
    {
      "cell_type": "code",
      "execution_count": null,
      "metadata": {
        "id": "db8Tg97jrVqP"
      },
      "outputs": [],
      "source": [
        "from tensorflow.keras.callbacks import EarlyStopping, ModelCheckpoint\n",
        "base_checkpointer = ModelCheckpoint(\n",
        "    filepath = BASE_MODEL_BEST, \n",
        "    save_best_only = True, \n",
        "    verbose = 1\n",
        ")\n",
        "\n",
        "fine_tune_checkpointer = ModelCheckpoint(\n",
        "    filepath = FINE_TUNE_MODEL_BEST, \n",
        "    save_best_only = True,\n",
        "    verbose = 1, \n",
        ")\n",
        "\n",
        "# Stop if no improvement after 3 epochs\n",
        "early_stopping = EarlyStopping(monitor='val_loss', patience=3, verbose=1)"
      ]
    },
    {
      "cell_type": "markdown",
      "metadata": {
        "id": "Hb6-rA95mdCh"
      },
      "source": [
        "## Stage 1: Transfer learning"
      ]
    },
    {
      "cell_type": "code",
      "execution_count": null,
      "metadata": {
        "id": "7f7ri9GgvqSC"
      },
      "outputs": [],
      "source": [
        "for layer in pretrained_model.layers: layer.trainable = False\n",
        "model.compile(optimizer='rmsprop', loss='categorical_crossentropy', metrics=['accuracy'])"
      ]
    },
    {
      "cell_type": "code",
      "execution_count": null,
      "metadata": {
        "colab": {
          "base_uri": "https://localhost:8080/"
        },
        "id": "tumbgjkn7Eaq",
        "outputId": "795983d9-bf96-417d-e2da-76f5ab8ff9fb"
      },
      "outputs": [
        {
          "name": "stdout",
          "output_type": "stream",
          "text": [
            "Epoch 1/15\n",
            " 27/137 [====>.........................] - ETA: 7:54 - loss: 3.1909 - accuracy: 0.1826"
          ]
        },
        {
          "name": "stderr",
          "output_type": "stream",
          "text": [
            "/usr/local/lib/python3.7/dist-packages/PIL/TiffImagePlugin.py:788: UserWarning: Corrupt EXIF data.  Expecting to read 4 bytes but only got 0. \n",
            "  warnings.warn(str(msg))\n"
          ]
        },
        {
          "name": "stdout",
          "output_type": "stream",
          "text": [
            "137/137 [==============================] - 684s 5s/step - loss: 2.2591 - accuracy: 0.3519 - val_loss: 1.6861 - val_accuracy: 0.4634\n",
            "\n",
            "Epoch 00001: val_loss improved from inf to 1.68613, saving model to Models/InceptionResNetV2/base_model_best.hdf5\n",
            "Epoch 2/15\n",
            "137/137 [==============================] - 659s 5s/step - loss: 1.6560 - accuracy: 0.4904 - val_loss: 1.4435 - val_accuracy: 0.5715\n",
            "\n",
            "Epoch 00002: val_loss improved from 1.68613 to 1.44345, saving model to Models/InceptionResNetV2/base_model_best.hdf5\n",
            "Epoch 3/15\n",
            "137/137 [==============================] - 637s 5s/step - loss: 1.4794 - accuracy: 0.5462 - val_loss: 1.4848 - val_accuracy: 0.5502\n",
            "\n",
            "Epoch 00003: val_loss did not improve from 1.44345\n",
            "Epoch 4/15\n",
            "137/137 [==============================] - 625s 5s/step - loss: 1.3736 - accuracy: 0.5753 - val_loss: 1.2606 - val_accuracy: 0.6283\n",
            "\n",
            "Epoch 00004: val_loss improved from 1.44345 to 1.26058, saving model to Models/InceptionResNetV2/base_model_best.hdf5\n",
            "Epoch 5/15\n",
            "137/137 [==============================] - 621s 5s/step - loss: 1.3152 - accuracy: 0.5945 - val_loss: 1.2057 - val_accuracy: 0.6419\n",
            "\n",
            "Epoch 00005: val_loss improved from 1.26058 to 1.20567, saving model to Models/InceptionResNetV2/base_model_best.hdf5\n",
            "Epoch 6/15\n",
            "137/137 [==============================] - 622s 5s/step - loss: 1.2676 - accuracy: 0.6086 - val_loss: 1.1377 - val_accuracy: 0.6579\n",
            "\n",
            "Epoch 00006: val_loss improved from 1.20567 to 1.13767, saving model to Models/InceptionResNetV2/base_model_best.hdf5\n",
            "Epoch 7/15\n",
            "137/137 [==============================] - 644s 5s/step - loss: 1.2227 - accuracy: 0.6220 - val_loss: 1.1479 - val_accuracy: 0.6550\n",
            "\n",
            "Epoch 00007: val_loss did not improve from 1.13767\n",
            "Epoch 8/15\n",
            "137/137 [==============================] - 652s 5s/step - loss: 1.1884 - accuracy: 0.6301 - val_loss: 1.1437 - val_accuracy: 0.6711\n",
            "\n",
            "Epoch 00008: val_loss did not improve from 1.13767\n",
            "Epoch 9/15\n",
            "137/137 [==============================] - 640s 5s/step - loss: 1.1583 - accuracy: 0.6413 - val_loss: 1.1650 - val_accuracy: 0.6542\n",
            "\n",
            "Epoch 00009: val_loss did not improve from 1.13767\n",
            "Epoch 00009: early stopping\n"
          ]
        }
      ],
      "source": [
        "history = model.fit(\n",
        "    generated_train_data,\n",
        "    validation_data = generated_validate_data,\n",
        "    validation_steps = generated_validate_data.n // BATCH_SIZE,\n",
        "    steps_per_epoch = generated_train_data.n // BATCH_SIZE,\n",
        "    callbacks = [base_checkpointer, early_stopping],\n",
        "    epochs = INITIAL_EPOCHS,\n",
        "    verbose = 1,\n",
        ")\n",
        "model.save(BASE_MODEL_TRAINED)"
      ]
    },
    {
      "cell_type": "code",
      "execution_count": null,
      "metadata": {
        "id": "TvnLcjhAMt4m"
      },
      "outputs": [],
      "source": [
        "acc = history.history['accuracy']\n",
        "loss = history.history['loss']\n",
        "val_acc = history.history['val_accuracy']\n",
        "val_loss = history.history['val_loss']"
      ]
    },
    {
      "cell_type": "code",
      "execution_count": null,
      "metadata": {
        "colab": {
          "base_uri": "https://localhost:8080/",
          "height": 350
        },
        "id": "OIsHwHVk3yWm",
        "outputId": "562f19ba-f1c7-4488-8386-95a575597dfe"
      },
      "outputs": [
        {
          "data": {
            "image/png": "[encoded data removed]",
            "text/plain": [
              "<Figure size 1440x360 with 2 Axes>"
            ]
          },
          "metadata": {
            "needs_background": "light",
            "tags": []
          },
          "output_type": "display_data"
        }
      ],
      "source": [
        "plt.figure(figsize=(20, 5))\n",
        "plt.subplot(1, 2, 1)\n",
        "plt.plot(acc, label='Training Accuracy')\n",
        "plt.plot(val_acc, label='Validation Accuracy')\n",
        "plt.legend(loc='lower right')\n",
        "plt.ylabel('Accuracy')\n",
        "plt.ylim([min(plt.ylim()), 1])\n",
        "plt.title('Training and Validation Accuracy')\n",
        "\n",
        "plt.subplot(1, 2, 2)\n",
        "plt.plot(loss, label='Training Loss')\n",
        "plt.plot(val_loss, label='Validation Loss')\n",
        "plt.legend(loc='upper right')\n",
        "plt.ylabel('Cross Entropy')\n",
        "plt.ylim([min(plt.ylim()), max(plt.ylim())])\n",
        "plt.title('Training and Validation Loss')\n",
        "plt.xlabel('epoch')\n",
        "plt.savefig(BASE_MODEL_FIG)\n",
        "plt.show()"
      ]
    },
    {
      "cell_type": "markdown",
      "metadata": {
        "id": "ZvtG92ufqD1E"
      },
      "source": [
        "## Stage 2: Fine tuning"
      ]
    },
    {
      "cell_type": "code",
      "execution_count": null,
      "metadata": {
        "id": "dthkKZAa7Hbk"
      },
      "outputs": [],
      "source": [
        "for layer in pretrained_model.layers[:FINE_TUNE_AT]: layer.trainable = False\n",
        "for layer in pretrained_model.layers[FINE_TUNE_AT:]: layer.trainable = True"
      ]
    },
    {
      "cell_type": "code",
      "execution_count": null,
      "metadata": {
        "id": "l1AhZTRe3yWm"
      },
      "outputs": [],
      "source": [
        "from tensorflow.keras.optimizers import SGD\n",
        "model.compile(\n",
        "    optimizer = SGD(learning_rate=1e-4, momentum=0.9), \n",
        "    loss = 'categorical_crossentropy', \n",
        "    metrics = ['accuracy']\n",
        ")"
      ]
    },
    {
      "cell_type": "code",
      "execution_count": null,
      "metadata": {
        "colab": {
          "base_uri": "https://localhost:8080/"
        },
        "id": "aDxgXy_DuP4p",
        "outputId": "0f1523fd-da12-49ea-d9ea-21d5d2e01ca7"
      },
      "outputs": [
        {
          "name": "stdout",
          "output_type": "stream",
          "text": [
            "Epoch 9/30\n",
            " 12/137 [=>............................] - ETA: 8:57 - loss: 2.0316 - accuracy: 0.4023"
          ]
        },
        {
          "name": "stderr",
          "output_type": "stream",
          "text": [
            "/usr/local/lib/python3.7/dist-packages/PIL/TiffImagePlugin.py:788: UserWarning: Corrupt EXIF data.  Expecting to read 4 bytes but only got 0. \n",
            "  warnings.warn(str(msg))\n"
          ]
        },
        {
          "name": "stdout",
          "output_type": "stream",
          "text": [
            "137/137 [==============================] - 660s 5s/step - loss: 1.3928 - accuracy: 0.5875 - val_loss: 1.0827 - val_accuracy: 0.6793\n",
            "\n",
            "Epoch 00009: val_loss improved from inf to 1.08270, saving model to Models/InceptionResNetV2/fine_tune_model_best.hdf5\n",
            "Epoch 10/30\n",
            "137/137 [==============================] - 628s 5s/step - loss: 1.1577 - accuracy: 0.6558 - val_loss: 1.0818 - val_accuracy: 0.6797\n",
            "\n",
            "Epoch 00010: val_loss improved from 1.08270 to 1.08175, saving model to Models/InceptionResNetV2/fine_tune_model_best.hdf5\n",
            "Epoch 11/30\n",
            "137/137 [==============================] - 625s 5s/step - loss: 1.1020 - accuracy: 0.6708 - val_loss: 1.0578 - val_accuracy: 0.6875\n",
            "\n",
            "Epoch 00011: val_loss improved from 1.08175 to 1.05780, saving model to Models/InceptionResNetV2/fine_tune_model_best.hdf5\n",
            "Epoch 12/30\n",
            "137/137 [==============================] - 650s 5s/step - loss: 1.0573 - accuracy: 0.6866 - val_loss: 1.0456 - val_accuracy: 0.6896\n",
            "\n",
            "Epoch 00012: val_loss improved from 1.05780 to 1.04564, saving model to Models/InceptionResNetV2/fine_tune_model_best.hdf5\n",
            "Epoch 13/30\n",
            "137/137 [==============================] - 653s 5s/step - loss: 1.0445 - accuracy: 0.6908 - val_loss: 1.0261 - val_accuracy: 0.6974\n",
            "\n",
            "Epoch 00013: val_loss improved from 1.04564 to 1.02615, saving model to Models/InceptionResNetV2/fine_tune_model_best.hdf5\n",
            "Epoch 14/30\n",
            "137/137 [==============================] - 645s 5s/step - loss: 1.0215 - accuracy: 0.6908 - val_loss: 1.0157 - val_accuracy: 0.6986\n",
            "\n",
            "Epoch 00014: val_loss improved from 1.02615 to 1.01565, saving model to Models/InceptionResNetV2/fine_tune_model_best.hdf5\n",
            "Epoch 15/30\n",
            "137/137 [==============================] - 655s 5s/step - loss: 1.0071 - accuracy: 0.6955 - val_loss: 1.0090 - val_accuracy: 0.7007\n",
            "\n",
            "Epoch 00015: val_loss improved from 1.01565 to 1.00898, saving model to Models/InceptionResNetV2/fine_tune_model_best.hdf5\n",
            "Epoch 16/30\n",
            "137/137 [==============================] - 662s 5s/step - loss: 0.9838 - accuracy: 0.7014 - val_loss: 0.9899 - val_accuracy: 0.7035\n",
            "\n",
            "Epoch 00016: val_loss improved from 1.00898 to 0.98987, saving model to Models/InceptionResNetV2/fine_tune_model_best.hdf5\n",
            "Epoch 17/30\n",
            "137/137 [==============================] - 641s 5s/step - loss: 0.9795 - accuracy: 0.7049 - val_loss: 0.9858 - val_accuracy: 0.7031\n",
            "\n",
            "Epoch 00017: val_loss improved from 0.98987 to 0.98576, saving model to Models/InceptionResNetV2/fine_tune_model_best.hdf5\n",
            "Epoch 18/30\n",
            "137/137 [==============================] - 647s 5s/step - loss: 0.9622 - accuracy: 0.7112 - val_loss: 0.9829 - val_accuracy: 0.7035\n",
            "\n",
            "Epoch 00018: val_loss improved from 0.98576 to 0.98289, saving model to Models/InceptionResNetV2/fine_tune_model_best.hdf5\n",
            "Epoch 19/30\n",
            "137/137 [==============================] - 641s 5s/step - loss: 0.9520 - accuracy: 0.7131 - val_loss: 0.9739 - val_accuracy: 0.7076\n",
            "\n",
            "Epoch 00019: val_loss improved from 0.98289 to 0.97392, saving model to Models/InceptionResNetV2/fine_tune_model_best.hdf5\n",
            "Epoch 20/30\n",
            "137/137 [==============================] - 638s 5s/step - loss: 0.9433 - accuracy: 0.7119 - val_loss: 0.9657 - val_accuracy: 0.7068\n",
            "\n",
            "Epoch 00020: val_loss improved from 0.97392 to 0.96571, saving model to Models/InceptionResNetV2/fine_tune_model_best.hdf5\n",
            "Epoch 21/30\n",
            "137/137 [==============================] - 635s 5s/step - loss: 0.9421 - accuracy: 0.7145 - val_loss: 0.9601 - val_accuracy: 0.7113\n",
            "\n",
            "Epoch 00021: val_loss improved from 0.96571 to 0.96015, saving model to Models/InceptionResNetV2/fine_tune_model_best.hdf5\n",
            "Epoch 22/30\n",
            "137/137 [==============================] - 636s 5s/step - loss: 0.9335 - accuracy: 0.7148 - val_loss: 0.9487 - val_accuracy: 0.7138\n",
            "\n",
            "Epoch 00022: val_loss improved from 0.96015 to 0.94871, saving model to Models/InceptionResNetV2/fine_tune_model_best.hdf5\n",
            "Epoch 23/30\n",
            "137/137 [==============================] - 623s 5s/step - loss: 0.9222 - accuracy: 0.7182 - val_loss: 0.9446 - val_accuracy: 0.7130\n",
            "\n",
            "Epoch 00023: val_loss improved from 0.94871 to 0.94459, saving model to Models/InceptionResNetV2/fine_tune_model_best.hdf5\n",
            "Epoch 24/30\n",
            "137/137 [==============================] - 616s 4s/step - loss: 0.9214 - accuracy: 0.7162 - val_loss: 0.9476 - val_accuracy: 0.7171\n",
            "\n",
            "Epoch 00024: val_loss did not improve from 0.94459\n",
            "Epoch 25/30\n",
            "137/137 [==============================] - 612s 4s/step - loss: 0.9056 - accuracy: 0.7245 - val_loss: 0.9367 - val_accuracy: 0.7200\n",
            "\n",
            "Epoch 00025: val_loss improved from 0.94459 to 0.93675, saving model to Models/InceptionResNetV2/fine_tune_model_best.hdf5\n",
            "Epoch 26/30\n",
            "137/137 [==============================] - 614s 4s/step - loss: 0.8977 - accuracy: 0.7275 - val_loss: 0.9324 - val_accuracy: 0.7216\n",
            "\n",
            "Epoch 00026: val_loss improved from 0.93675 to 0.93242, saving model to Models/InceptionResNetV2/fine_tune_model_best.hdf5\n",
            "Epoch 27/30\n",
            "137/137 [==============================] - 616s 4s/step - loss: 0.8941 - accuracy: 0.7263 - val_loss: 0.9336 - val_accuracy: 0.7225\n",
            "\n",
            "Epoch 00027: val_loss did not improve from 0.93242\n",
            "Epoch 28/30\n",
            "137/137 [==============================] - 613s 4s/step - loss: 0.8811 - accuracy: 0.7312 - val_loss: 0.9345 - val_accuracy: 0.7196\n",
            "\n",
            "Epoch 00028: val_loss did not improve from 0.93242\n",
            "Epoch 29/30\n",
            "137/137 [==============================] - 611s 4s/step - loss: 0.8876 - accuracy: 0.7280 - val_loss: 0.9145 - val_accuracy: 0.7303\n",
            "\n",
            "Epoch 00029: val_loss improved from 0.93242 to 0.91446, saving model to Models/InceptionResNetV2/fine_tune_model_best.hdf5\n",
            "Epoch 30/30\n",
            "137/137 [==============================] - 613s 4s/step - loss: 0.8727 - accuracy: 0.7346 - val_loss: 0.9281 - val_accuracy: 0.7220\n",
            "\n",
            "Epoch 00030: val_loss did not improve from 0.91446\n"
          ]
        }
      ],
      "source": [
        "history_fine = model.fit(\n",
        "    generated_train_data,\n",
        "    validation_data = generated_validate_data,\n",
        "    validation_steps = generated_validate_data.n // BATCH_SIZE,\n",
        "    steps_per_epoch = generated_train_data.n // BATCH_SIZE,\n",
        "    epochs = TOTAL_EPOCHS,\n",
        "    initial_epoch = history.epoch[-1],\n",
        "    callbacks = [fine_tune_checkpointer, early_stopping],\n",
        "    verbose = 1,\n",
        ")\n",
        "model.save(FINE_TUNE_MODEL_TRAINED)"
      ]
    },
    {
      "cell_type": "code",
      "execution_count": null,
      "metadata": {
        "id": "tR2bhKvf7Kj0"
      },
      "outputs": [],
      "source": [
        "acc += history_fine.history['accuracy']\n",
        "loss += history_fine.history['loss']\n",
        "val_acc += history_fine.history['val_accuracy']\n",
        "val_loss += history_fine.history['val_loss']"
      ]
    },
    {
      "cell_type": "code",
      "execution_count": null,
      "metadata": {
        "colab": {
          "base_uri": "https://localhost:8080/",
          "height": 350
        },
        "id": "AYLfL3pd7L5F",
        "outputId": "181711ed-b46c-40be-c34a-92235fdb54c5"
      },
      "outputs": [
        {
          "data": {
            "image/png": "[encoded data removed]",
            "text/plain": [
              "<Figure size 1440x360 with 2 Axes>"
            ]
          },
          "metadata": {
            "needs_background": "light",
            "tags": []
          },
          "output_type": "display_data"
        }
      ],
      "source": [
        "plt.figure(figsize=(20, 5))\n",
        "plt.subplot(1, 2, 1)\n",
        "plt.plot(acc, label='Training Accuracy')\n",
        "plt.plot(val_acc, label='Validation Accuracy')\n",
        "plt.ylim([min(plt.ylim()), 1])\n",
        "plt.plot([INITIAL_EPOCHS - 7, INITIAL_EPOCHS - 7], plt.ylim(), label='Start Fine Tuning')\n",
        "plt.legend(loc='lower right')\n",
        "plt.title('Training and Validation Accuracy')\n",
        "\n",
        "plt.subplot(1, 2, 2)\n",
        "plt.plot(loss, label='Training Loss')\n",
        "plt.plot(val_loss, label='Validation Loss')\n",
        "plt.ylim([min(plt.ylim()), max(plt.ylim())])\n",
        "plt.plot([INITIAL_EPOCHS - 7, INITIAL_EPOCHS - 7], plt.ylim(), label='Start Fine Tuning')\n",
        "plt.legend(loc='upper right')\n",
        "plt.title('Training and Validation Loss')\n",
        "plt.xlabel('epoch')\n",
        "plt.savefig(FINE_TUNE_MODE_FIG)\n",
        "plt.show()"
      ]
    },
    {
      "cell_type": "markdown",
      "metadata": {
        "id": "o__Nz-Wbl1jW"
      },
      "source": [
        "# Evaluation"
      ]
    },
    {
      "cell_type": "code",
      "execution_count": null,
      "metadata": {
        "colab": {
          "base_uri": "https://localhost:8080/"
        },
        "id": "obJpFrio7Nye",
        "outputId": "dbe617e2-79f8-4768-f9f3-a8f14cb7171c"
      },
      "outputs": [
        {
          "name": "stdout",
          "output_type": "stream",
          "text": [
            "158/158 [==============================] - 90s 566ms/step - loss: 0.8840 - accuracy: 0.7292\n",
            "Test accuracy: 0.7291666865348816\n"
          ]
        }
      ],
      "source": [
        "loss, accuracy = model.evaluate(generated_test_data)\n",
        "print('Test accuracy:', accuracy)"
      ]
    },
    {
      "cell_type": "code",
      "execution_count": null,
      "metadata": {
        "id": "J2BobOKc0aVG"
      },
      "outputs": [],
      "source": [
        "import gc\n",
        "del model\n",
        "gc.collect()"
      ]
    }
  ],
  "metadata": {
    "accelerator": "GPU",
    "colab": {
      "collapsed_sections": [],
      "machine_shape": "hm",
      "name": "InceptionResNetV2.ipynb",
      "provenance": [],
      "toc_visible": true
    },
    "kernelspec": {
      "display_name": "Python 3",
      "language": "python",
      "name": "python3"
    },
    "language_info": {
      "codemirror_mode": {
        "name": "ipython",
        "version": 3
      },
      "file_extension": ".py",
      "mimetype": "text/x-python",
      "name": "python",
      "nbconvert_exporter": "python",
      "pygments_lexer": "ipython3",
      "version": "3.8.10"
    },
    "toc": {
      "base_numbering": 1,
      "nav_menu": {},
      "number_sections": true,
      "sideBar": true,
      "skip_h1_title": false,
      "title_cell": "Table of Contents",
      "title_sidebar": "Contents",
      "toc_cell": false,
      "toc_position": {},
      "toc_section_display": true,
      "toc_window_display": false
    }
  },
  "nbformat": 4,
  "nbformat_minor": 0
}