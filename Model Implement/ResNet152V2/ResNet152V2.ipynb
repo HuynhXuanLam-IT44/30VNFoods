{
  "nbformat": 4,
  "nbformat_minor": 0,
  "metadata": {
    "accelerator": "GPU",
    "colab": {
      "name": "ResNet152V2.ipynb",
      "provenance": [],
      "collapsed_sections": [],
      "machine_shape": "hm"
    },
    "kernelspec": {
      "display_name": "Python 3",
      "language": "python",
      "name": "python3"
    },
    "language_info": {
      "codemirror_mode": {
        "name": "ipython",
        "version": 3
      },
      "file_extension": ".py",
      "mimetype": "text/x-python",
      "name": "python",
      "nbconvert_exporter": "python",
      "pygments_lexer": "ipython3",
      "version": "3.8.5"
    },
    "toc": {
      "base_numbering": 1,
      "nav_menu": {},
      "number_sections": true,
      "sideBar": true,
      "skip_h1_title": false,
      "title_cell": "Table of Contents",
      "title_sidebar": "Contents",
      "toc_cell": false,
      "toc_position": {},
      "toc_section_display": true,
      "toc_window_display": false
    }
  },
  "cells": [
    {
      "cell_type": "code",
      "metadata": {
        "id": "A28RTeJT68Ck",
        "colab": {
          "base_uri": "https://localhost:8080/"
        },
        "outputId": "a83834a5-2ae3-4a61-e3dd-867e5b4a9097"
      },
      "source": [
        "import tensorflow as tf\n",
        "import matplotlib.pyplot as plt\n",
        "import h5py\n",
        "\n",
        "tf.get_logger().setLevel('ERROR')\n",
        "!curl -s https://raw.githubusercontent.com/sivel/speedtest-cli/master/speedtest.py | python -"
      ],
      "execution_count": null,
      "outputs": [
        {
          "output_type": "stream",
          "text": [
            "Retrieving speedtest.net configuration...\n",
            "Testing from Google Cloud (34.90.22.157)...\n",
            "Retrieving speedtest.net server list...\n",
            "Selecting best server based on ping...\n",
            "Hosted by SIT Internetdiensten B.V. (Voorthuizen) [131.76 km]: 8.229 ms\n",
            "Testing download speed................................................................................\n",
            "Download: 711.22 Mbit/s\n",
            "Testing upload speed......................................................................................................\n",
            "Upload: 557.24 Mbit/s\n"
          ],
          "name": "stdout"
        }
      ]
    },
    {
      "cell_type": "markdown",
      "metadata": {
        "id": "wWRnqjvKql6I"
      },
      "source": [
        "# Import dataset"
      ]
    },
    {
      "cell_type": "code",
      "metadata": {
        "id": "Pp3lSgA2_XjB"
      },
      "source": [
        "from google.colab import drive\n",
        "import os\n",
        "\n",
        "drive.mount('/content/GoogleDrive', force_remount=True)\n",
        "path = '/content/GoogleDrive/My Drive/Vietnamese Foods'\n",
        "os.chdir(path)\n",
        "!ls"
      ],
      "execution_count": null,
      "outputs": []
    },
    {
      "cell_type": "code",
      "metadata": {
        "id": "sv5J52-QqoFB"
      },
      "source": [
        "# Move dataset to /tmp cause reading files from Drive is very slow\n",
        "!cp Dataset/vietnamese-foods-split.zip /tmp\n",
        "!unzip -q /tmp/vietnamese-foods-split.zip -d /tmp"
      ],
      "execution_count": null,
      "outputs": []
    },
    {
      "cell_type": "markdown",
      "metadata": {
        "id": "sFmDtUdglAj8"
      },
      "source": [
        "# Check GPU working"
      ]
    },
    {
      "cell_type": "code",
      "metadata": {
        "id": "2nhuOTKg69dn"
      },
      "source": [
        "physical_devices = tf.config.list_physical_devices('GPU') \n",
        "tf.config.experimental.set_memory_growth(physical_devices[0], True)"
      ],
      "execution_count": null,
      "outputs": []
    },
    {
      "cell_type": "code",
      "metadata": {
        "id": "AnbC6Jvh_ekm",
        "colab": {
          "base_uri": "https://localhost:8080/"
        },
        "outputId": "249952e9-5d7e-4d81-e189-a412d63b8a16"
      },
      "source": [
        "device_name = tf.test.gpu_device_name()\n",
        "if device_name != '/device:GPU:0': raise SystemError('GPU device not found')\n",
        "print('Found GPU at:', device_name)"
      ],
      "execution_count": null,
      "outputs": [
        {
          "output_type": "stream",
          "text": [
            "Found GPU at: /device:GPU:0\n"
          ],
          "name": "stdout"
        }
      ]
    },
    {
      "cell_type": "markdown",
      "metadata": {
        "id": "tpR0HVub_mqC"
      },
      "source": [
        "# Setup path"
      ]
    },
    {
      "cell_type": "code",
      "metadata": {
        "id": "VAlYBdWz_oB5"
      },
      "source": [
        "TRAIN_PATH = '/tmp/Images/Train'\n",
        "VALIDATE_PATH = '/tmp/Images/Validate'\n",
        "TEST_PATH = '/tmp/Images/Test'"
      ],
      "execution_count": null,
      "outputs": []
    },
    {
      "cell_type": "code",
      "metadata": {
        "id": "ltyqIZxo_rPU"
      },
      "source": [
        "PATH = 'Models/ResNet152V2'\n",
        "\n",
        "BASE_MODEL_BEST = os.path.join(PATH, 'base_model_best.hdf5')\n",
        "BASE_MODEL_TRAINED = os.path.join(PATH, 'base_model_trained.hdf5')\n",
        "BASE_MODEL_FIG = os.path.join(PATH, 'base_model_fig.jpg')\n",
        "\n",
        "FINE_TUNE_MODEL_BEST = os.path.join(PATH, 'fine_tune_model_best.hdf5')\n",
        "FINE_TUNE_MODEL_TRAINED = os.path.join(PATH, 'fine_tune_model_trained.hdf5')\n",
        "FINE_TUNE_MODE_FIG = os.path.join(PATH, 'fine_tune_model_fig.jpg')"
      ],
      "execution_count": null,
      "outputs": []
    },
    {
      "cell_type": "markdown",
      "metadata": {
        "id": "Dt8mtwjLlFii"
      },
      "source": [
        "# Preparing data"
      ]
    },
    {
      "cell_type": "code",
      "metadata": {
        "id": "YrUH6HT06_N7"
      },
      "source": [
        "IMAGE_SIZE = (300, 300)\n",
        "BATCH_SIZE = 128"
      ],
      "execution_count": null,
      "outputs": []
    },
    {
      "cell_type": "code",
      "metadata": {
        "id": "_-_wF6-g7AnR"
      },
      "source": [
        "from tensorflow.keras.preprocessing.image import ImageDataGenerator\n",
        "train_generator = ImageDataGenerator(\n",
        "    rescale = 1./255,\n",
        "    rotation_range = 40, \n",
        "    width_shift_range = 0.2, \n",
        "    height_shift_range = 0.2,\n",
        "    shear_range = 0.2,\n",
        "    zoom_range = 0.2,\n",
        "    horizontal_flip = True\n",
        ")\n",
        "validate_generator = ImageDataGenerator(rescale=1./255)\n",
        "test_generator = ImageDataGenerator(rescale=1./255)"
      ],
      "execution_count": null,
      "outputs": []
    },
    {
      "cell_type": "code",
      "metadata": {
        "id": "GXDnEY2B_7kT",
        "colab": {
          "base_uri": "https://localhost:8080/"
        },
        "outputId": "669df9df-8ff4-4abf-913b-2e667f32aa2c"
      },
      "source": [
        "generated_train_data = train_generator.flow_from_directory(TRAIN_PATH, target_size=IMAGE_SIZE, batch_size=BATCH_SIZE)\n",
        "generated_validate_data = validate_generator.flow_from_directory(VALIDATE_PATH, target_size=IMAGE_SIZE, batch_size=BATCH_SIZE)\n",
        "generated_test_data = test_generator.flow_from_directory(TEST_PATH, target_size=IMAGE_SIZE)"
      ],
      "execution_count": null,
      "outputs": [
        {
          "output_type": "stream",
          "text": [
            "Found 17581 images belonging to 30 classes.\n",
            "Found 2515 images belonging to 30 classes.\n",
            "Found 5040 images belonging to 30 classes.\n"
          ],
          "name": "stdout"
        }
      ]
    },
    {
      "cell_type": "markdown",
      "metadata": {
        "id": "B1l4k_TklI9b"
      },
      "source": [
        "# Model implement"
      ]
    },
    {
      "cell_type": "code",
      "metadata": {
        "id": "XeXeFD52ADsf"
      },
      "source": [
        "CLASSES = 30\n",
        "INITIAL_EPOCHS = 15\n",
        "FINE_TUNE_EPOCHS = 15\n",
        "TOTAL_EPOCHS = INITIAL_EPOCHS + FINE_TUNE_EPOCHS\n",
        "FINE_TUNE_AT = 516"
      ],
      "execution_count": null,
      "outputs": []
    },
    {
      "cell_type": "markdown",
      "metadata": {
        "id": "msd5nk4RAK0y"
      },
      "source": [
        "## Define the model"
      ]
    },
    {
      "cell_type": "code",
      "metadata": {
        "id": "tq3KGF6GAKgn"
      },
      "source": [
        "from tensorflow.keras.applications.resnet_v2 import ResNet152V2\n",
        "from tensorflow.keras.layers import GlobalAveragePooling2D, Dense, Dropout\n",
        "from tensorflow.keras.models import Model"
      ],
      "execution_count": null,
      "outputs": []
    },
    {
      "cell_type": "code",
      "metadata": {
        "id": "PqzXocb1AMvI"
      },
      "source": [
        "pretrained_model = ResNet152V2(weights='imagenet', include_top=False)\n",
        "last_output = pretrained_model.output\n",
        "x = GlobalAveragePooling2D()(last_output)\n",
        "x = Dense(512, activation='relu')(x)\n",
        "x = Dropout(0.2)(x)\n",
        "outputs = Dense(CLASSES, activation='softmax')(x)\n",
        "model = Model(inputs=pretrained_model.input, outputs=outputs)"
      ],
      "execution_count": null,
      "outputs": []
    },
    {
      "cell_type": "markdown",
      "metadata": {
        "id": "33KX4mAqAY4E"
      },
      "source": [
        "## Callbacks"
      ]
    },
    {
      "cell_type": "code",
      "metadata": {
        "id": "Ss-OTla_AWLA"
      },
      "source": [
        "from tensorflow.keras.callbacks import EarlyStopping, ModelCheckpoint\n",
        "base_checkpointer = ModelCheckpoint(\n",
        "    filepath = BASE_MODEL_BEST, \n",
        "    save_best_only = True, \n",
        "    verbose = 1\n",
        ")\n",
        "\n",
        "fine_tune_checkpointer = ModelCheckpoint(\n",
        "    filepath = FINE_TUNE_MODEL_BEST, \n",
        "    save_best_only = True,\n",
        "    verbose = 1, \n",
        ")\n",
        "\n",
        "# Stop if no improvement after 3 epochs\n",
        "early_stopping = EarlyStopping(monitor='val_loss', patience=3, verbose=1)"
      ],
      "execution_count": null,
      "outputs": []
    },
    {
      "cell_type": "markdown",
      "metadata": {
        "id": "Hb6-rA95mdCh"
      },
      "source": [
        "## Stage 1: Transfer learning"
      ]
    },
    {
      "cell_type": "code",
      "metadata": {
        "id": "ScO0cEkUAeF8"
      },
      "source": [
        "for layer in pretrained_model.layers: layer.trainable = False\n",
        "model.compile(optimizer='rmsprop', loss='categorical_crossentropy', metrics=['accuracy'])"
      ],
      "execution_count": null,
      "outputs": []
    },
    {
      "cell_type": "code",
      "metadata": {
        "id": "TaiCUlgoAhPi",
        "colab": {
          "base_uri": "https://localhost:8080/"
        },
        "outputId": "0ef62721-5d06-4a5f-e317-4ca63dbf0ef4"
      },
      "source": [
        "history = model.fit(\n",
        "    generated_train_data,\n",
        "    validation_data = generated_validate_data,\n",
        "    validation_steps = generated_validate_data.n // BATCH_SIZE,\n",
        "    steps_per_epoch = generated_train_data.n // BATCH_SIZE,\n",
        "    callbacks = [base_checkpointer, early_stopping],\n",
        "    epochs = INITIAL_EPOCHS,\n",
        "    verbose = 1,\n",
        ")\n",
        "model.save(BASE_MODEL_TRAINED)"
      ],
      "execution_count": null,
      "outputs": [
        {
          "output_type": "stream",
          "text": [
            "Epoch 1/15\n",
            " 36/137 [======>.......................] - ETA: 7:24 - loss: 2.5050 - accuracy: 0.3142"
          ],
          "name": "stdout"
        },
        {
          "output_type": "stream",
          "text": [
            "/usr/local/lib/python3.7/dist-packages/PIL/TiffImagePlugin.py:788: UserWarning: Corrupt EXIF data.  Expecting to read 4 bytes but only got 0. \n",
            "  warnings.warn(str(msg))\n"
          ],
          "name": "stderr"
        },
        {
          "output_type": "stream",
          "text": [
            "137/137 [==============================] - 689s 5s/step - loss: 1.8956 - accuracy: 0.4477 - val_loss: 1.2997 - val_accuracy: 0.6090\n",
            "\n",
            "Epoch 00001: val_loss improved from inf to 1.29973, saving model to Models/ResNet152V2/base_model_best.hdf5\n"
          ],
          "name": "stdout"
        },
        {
          "output_type": "stream",
          "text": [
            "/usr/local/lib/python3.7/dist-packages/tensorflow/python/keras/utils/generic_utils.py:497: CustomMaskWarning: Custom mask layers require a config and must override get_config. When loading, the custom mask layer must be passed to the custom_objects argument.\n",
            "  category=CustomMaskWarning)\n"
          ],
          "name": "stderr"
        },
        {
          "output_type": "stream",
          "text": [
            "Epoch 2/15\n",
            "137/137 [==============================] - 659s 5s/step - loss: 1.3411 - accuracy: 0.5934 - val_loss: 1.2164 - val_accuracy: 0.6340\n",
            "\n",
            "Epoch 00002: val_loss improved from 1.29973 to 1.21636, saving model to Models/ResNet152V2/base_model_best.hdf5\n",
            "Epoch 3/15\n",
            "137/137 [==============================] - 676s 5s/step - loss: 1.1781 - accuracy: 0.6393 - val_loss: 1.0803 - val_accuracy: 0.6748\n",
            "\n",
            "Epoch 00003: val_loss improved from 1.21636 to 1.08028, saving model to Models/ResNet152V2/base_model_best.hdf5\n",
            "Epoch 4/15\n",
            "137/137 [==============================] - 674s 5s/step - loss: 1.0825 - accuracy: 0.6679 - val_loss: 1.0457 - val_accuracy: 0.6879\n",
            "\n",
            "Epoch 00004: val_loss improved from 1.08028 to 1.04573, saving model to Models/ResNet152V2/base_model_best.hdf5\n",
            "Epoch 5/15\n",
            "137/137 [==============================] - 665s 5s/step - loss: 1.0170 - accuracy: 0.6885 - val_loss: 1.0175 - val_accuracy: 0.7068\n",
            "\n",
            "Epoch 00005: val_loss improved from 1.04573 to 1.01753, saving model to Models/ResNet152V2/base_model_best.hdf5\n",
            "Epoch 6/15\n",
            "137/137 [==============================] - 642s 5s/step - loss: 0.9585 - accuracy: 0.6992 - val_loss: 1.0215 - val_accuracy: 0.6990\n",
            "\n",
            "Epoch 00006: val_loss did not improve from 1.01753\n",
            "Epoch 7/15\n",
            "137/137 [==============================] - 642s 5s/step - loss: 0.9198 - accuracy: 0.7122 - val_loss: 0.9606 - val_accuracy: 0.7183\n",
            "\n",
            "Epoch 00007: val_loss improved from 1.01753 to 0.96060, saving model to Models/ResNet152V2/base_model_best.hdf5\n",
            "Epoch 8/15\n",
            "137/137 [==============================] - 641s 5s/step - loss: 0.8725 - accuracy: 0.7266 - val_loss: 0.9757 - val_accuracy: 0.7130\n",
            "\n",
            "Epoch 00008: val_loss did not improve from 0.96060\n",
            "Epoch 9/15\n",
            "137/137 [==============================] - 639s 5s/step - loss: 0.8319 - accuracy: 0.7391 - val_loss: 0.9849 - val_accuracy: 0.7118\n",
            "\n",
            "Epoch 00009: val_loss did not improve from 0.96060\n",
            "Epoch 10/15\n",
            "137/137 [==============================] - 651s 5s/step - loss: 0.8124 - accuracy: 0.7472 - val_loss: 0.9906 - val_accuracy: 0.7179\n",
            "\n",
            "Epoch 00010: val_loss did not improve from 0.96060\n",
            "Epoch 00010: early stopping\n"
          ],
          "name": "stdout"
        }
      ]
    },
    {
      "cell_type": "code",
      "metadata": {
        "id": "cyd55YmNAmGq"
      },
      "source": [
        "acc = history.history['accuracy']\n",
        "loss = history.history['loss']\n",
        "val_acc = history.history['val_accuracy']\n",
        "val_loss = history.history['val_loss']"
      ],
      "execution_count": null,
      "outputs": []
    },
    {
      "cell_type": "code",
      "metadata": {
        "id": "iuAMpFD27F6u",
        "colab": {
          "base_uri": "https://localhost:8080/",
          "height": 350
        },
        "outputId": "70372d9e-56a3-4c39-ab38-d83ca5be9b6e"
      },
      "source": [
        "plt.figure(figsize=(20, 5))\n",
        "plt.subplot(1, 2, 1)\n",
        "plt.plot(acc, label='Training Accuracy')\n",
        "plt.plot(val_acc, label='Validation Accuracy')\n",
        "plt.legend(loc='lower right')\n",
        "plt.ylabel('Accuracy')\n",
        "plt.ylim([min(plt.ylim()), 1])\n",
        "plt.title('Training and Validation Accuracy')\n",
        "\n",
        "plt.subplot(1, 2, 2)\n",
        "plt.plot(loss, label='Training Loss')\n",
        "plt.plot(val_loss, label='Validation Loss')\n",
        "plt.legend(loc='upper right')\n",
        "plt.ylabel('Cross Entropy')\n",
        "plt.ylim([min(plt.ylim()), max(plt.ylim())])\n",
        "plt.title('Training and Validation Loss')\n",
        "plt.xlabel('epoch')\n",
        "plt.savefig(BASE_MODEL_FIG)\n",
        "plt.show()"
      ],
      "execution_count": null,
      "outputs": [
        {
          "output_type": "display_data",
          "data": {
            "image/png": "[encoded data removed]",
            "text/plain": [
              "<Figure size 1440x360 with 2 Axes>"
            ]
          },
          "metadata": {
            "tags": [],
            "needs_background": "light"
          }
        }
      ]
    },
    {
      "cell_type": "markdown",
      "metadata": {
        "id": "pM-mwSjAmXSL"
      },
      "source": [
        "## Stage 2: Fine tuning"
      ]
    },
    {
      "cell_type": "code",
      "metadata": {
        "id": "KBhpSfWDrViI"
      },
      "source": [
        "for layer in pretrained_model.layers[:FINE_TUNE_AT]: layer.trainable = False\n",
        "for layer in pretrained_model.layers[FINE_TUNE_AT:]: layer.trainable = True"
      ],
      "execution_count": null,
      "outputs": []
    },
    {
      "cell_type": "code",
      "metadata": {
        "id": "0M146sJHAt8E"
      },
      "source": [
        "from tensorflow.keras.optimizers import SGD\n",
        "model.compile(\n",
        "    optimizer = SGD(learning_rate=1e-4, momentum=0.9), \n",
        "    loss = 'categorical_crossentropy', \n",
        "    metrics = ['accuracy']\n",
        ")"
      ],
      "execution_count": null,
      "outputs": []
    },
    {
      "cell_type": "code",
      "metadata": {
        "id": "dthkKZAa7Hbk",
        "colab": {
          "base_uri": "https://localhost:8080/"
        },
        "outputId": "f1fe0ead-7497-4f0d-abe1-c29c68ec9a61"
      },
      "source": [
        "history_fine = model.fit(\n",
        "    generated_train_data,\n",
        "    validation_data = generated_validate_data,\n",
        "    validation_steps = generated_validate_data.n // BATCH_SIZE,\n",
        "    steps_per_epoch = generated_train_data.n // BATCH_SIZE,\n",
        "    epochs = TOTAL_EPOCHS,\n",
        "    initial_epoch = history.epoch[-1],\n",
        "    callbacks = [fine_tune_checkpointer, early_stopping],\n",
        "    verbose = 1,\n",
        ")\n",
        "model.save(FINE_TUNE_MODEL_TRAINED)"
      ],
      "execution_count": null,
      "outputs": [
        {
          "output_type": "stream",
          "text": [
            "Epoch 10/30\n",
            " 95/137 [===================>..........] - ETA: 3:03 - loss: 1.3832 - accuracy: 0.6088"
          ],
          "name": "stdout"
        },
        {
          "output_type": "stream",
          "text": [
            "/usr/local/lib/python3.7/dist-packages/PIL/TiffImagePlugin.py:788: UserWarning: Corrupt EXIF data.  Expecting to read 4 bytes but only got 0. \n",
            "  warnings.warn(str(msg))\n"
          ],
          "name": "stderr"
        },
        {
          "output_type": "stream",
          "text": [
            "137/137 [==============================] - 656s 5s/step - loss: 1.2630 - accuracy: 0.6355 - val_loss: 1.1068 - val_accuracy: 0.6908\n",
            "\n",
            "Epoch 00010: val_loss improved from inf to 1.10682, saving model to Models/ResNet152V2/fine_tune_model_best.hdf5\n"
          ],
          "name": "stdout"
        },
        {
          "output_type": "stream",
          "text": [
            "/usr/local/lib/python3.7/dist-packages/tensorflow/python/keras/utils/generic_utils.py:497: CustomMaskWarning: Custom mask layers require a config and must override get_config. When loading, the custom mask layer must be passed to the custom_objects argument.\n",
            "  category=CustomMaskWarning)\n"
          ],
          "name": "stderr"
        },
        {
          "output_type": "stream",
          "text": [
            "Epoch 11/30\n",
            "137/137 [==============================] - 655s 5s/step - loss: 0.9103 - accuracy: 0.7209 - val_loss: 0.9535 - val_accuracy: 0.7233\n",
            "\n",
            "Epoch 00011: val_loss improved from 1.10682 to 0.95347, saving model to Models/ResNet152V2/fine_tune_model_best.hdf5\n",
            "Epoch 12/30\n",
            "137/137 [==============================] - 655s 5s/step - loss: 0.8228 - accuracy: 0.7456 - val_loss: 0.9243 - val_accuracy: 0.7294\n",
            "\n",
            "Epoch 00012: val_loss improved from 0.95347 to 0.92427, saving model to Models/ResNet152V2/fine_tune_model_best.hdf5\n",
            "Epoch 13/30\n",
            "137/137 [==============================] - 658s 5s/step - loss: 0.7804 - accuracy: 0.7581 - val_loss: 0.8966 - val_accuracy: 0.7393\n",
            "\n",
            "Epoch 00013: val_loss improved from 0.92427 to 0.89663, saving model to Models/ResNet152V2/fine_tune_model_best.hdf5\n",
            "Epoch 14/30\n",
            "137/137 [==============================] - 646s 5s/step - loss: 0.7408 - accuracy: 0.7682 - val_loss: 0.8851 - val_accuracy: 0.7414\n",
            "\n",
            "Epoch 00014: val_loss improved from 0.89663 to 0.88506, saving model to Models/ResNet152V2/fine_tune_model_best.hdf5\n",
            "Epoch 15/30\n",
            "137/137 [==============================] - 654s 5s/step - loss: 0.7183 - accuracy: 0.7773 - val_loss: 0.8755 - val_accuracy: 0.7471\n",
            "\n",
            "Epoch 00015: val_loss improved from 0.88506 to 0.87549, saving model to Models/ResNet152V2/fine_tune_model_best.hdf5\n",
            "Epoch 16/30\n",
            "137/137 [==============================] - 658s 5s/step - loss: 0.6834 - accuracy: 0.7883 - val_loss: 0.8413 - val_accuracy: 0.7516\n",
            "\n",
            "Epoch 00016: val_loss improved from 0.87549 to 0.84127, saving model to Models/ResNet152V2/fine_tune_model_best.hdf5\n",
            "Epoch 17/30\n",
            "137/137 [==============================] - 666s 5s/step - loss: 0.6605 - accuracy: 0.7994 - val_loss: 0.8440 - val_accuracy: 0.7516\n",
            "\n",
            "Epoch 00017: val_loss did not improve from 0.84127\n",
            "Epoch 18/30\n",
            "137/137 [==============================] - 665s 5s/step - loss: 0.6480 - accuracy: 0.7992 - val_loss: 0.8494 - val_accuracy: 0.7492\n",
            "\n",
            "Epoch 00018: val_loss did not improve from 0.84127\n",
            "Epoch 19/30\n",
            "137/137 [==============================] - 671s 5s/step - loss: 0.6300 - accuracy: 0.7998 - val_loss: 0.8355 - val_accuracy: 0.7521\n",
            "\n",
            "Epoch 00019: val_loss improved from 0.84127 to 0.83548, saving model to Models/ResNet152V2/fine_tune_model_best.hdf5\n",
            "Epoch 20/30\n",
            "137/137 [==============================] - 679s 5s/step - loss: 0.6127 - accuracy: 0.8111 - val_loss: 0.8167 - val_accuracy: 0.7623\n",
            "\n",
            "Epoch 00020: val_loss improved from 0.83548 to 0.81666, saving model to Models/ResNet152V2/fine_tune_model_best.hdf5\n",
            "Epoch 21/30\n",
            "137/137 [==============================] - 677s 5s/step - loss: 0.5930 - accuracy: 0.8160 - val_loss: 0.8107 - val_accuracy: 0.7607\n",
            "\n",
            "Epoch 00021: val_loss improved from 0.81666 to 0.81074, saving model to Models/ResNet152V2/fine_tune_model_best.hdf5\n",
            "Epoch 22/30\n",
            "137/137 [==============================] - 676s 5s/step - loss: 0.5888 - accuracy: 0.8162 - val_loss: 0.8021 - val_accuracy: 0.7627\n",
            "\n",
            "Epoch 00022: val_loss improved from 0.81074 to 0.80212, saving model to Models/ResNet152V2/fine_tune_model_best.hdf5\n",
            "Epoch 23/30\n",
            "137/137 [==============================] - 680s 5s/step - loss: 0.5714 - accuracy: 0.8200 - val_loss: 0.8073 - val_accuracy: 0.7669\n",
            "\n",
            "Epoch 00023: val_loss did not improve from 0.80212\n",
            "Epoch 24/30\n",
            "137/137 [==============================] - 671s 5s/step - loss: 0.5582 - accuracy: 0.8235 - val_loss: 0.8039 - val_accuracy: 0.7677\n",
            "\n",
            "Epoch 00024: val_loss did not improve from 0.80212\n",
            "Epoch 25/30\n",
            "137/137 [==============================] - 666s 5s/step - loss: 0.5504 - accuracy: 0.8297 - val_loss: 0.7946 - val_accuracy: 0.7718\n",
            "\n",
            "Epoch 00025: val_loss improved from 0.80212 to 0.79465, saving model to Models/ResNet152V2/fine_tune_model_best.hdf5\n",
            "Epoch 26/30\n",
            "137/137 [==============================] - 664s 5s/step - loss: 0.5527 - accuracy: 0.8290 - val_loss: 0.7885 - val_accuracy: 0.7734\n",
            "\n",
            "Epoch 00026: val_loss improved from 0.79465 to 0.78846, saving model to Models/ResNet152V2/fine_tune_model_best.hdf5\n",
            "Epoch 27/30\n",
            "137/137 [==============================] - 672s 5s/step - loss: 0.5259 - accuracy: 0.8342 - val_loss: 0.7896 - val_accuracy: 0.7747\n",
            "\n",
            "Epoch 00027: val_loss did not improve from 0.78846\n",
            "Epoch 28/30\n",
            "137/137 [==============================] - 670s 5s/step - loss: 0.5239 - accuracy: 0.8342 - val_loss: 0.7855 - val_accuracy: 0.7743\n",
            "\n",
            "Epoch 00028: val_loss improved from 0.78846 to 0.78553, saving model to Models/ResNet152V2/fine_tune_model_best.hdf5\n",
            "Epoch 29/30\n",
            "137/137 [==============================] - 673s 5s/step - loss: 0.5146 - accuracy: 0.8402 - val_loss: 0.7793 - val_accuracy: 0.7788\n",
            "\n",
            "Epoch 00029: val_loss improved from 0.78553 to 0.77927, saving model to Models/ResNet152V2/fine_tune_model_best.hdf5\n",
            "Epoch 30/30\n",
            "137/137 [==============================] - 682s 5s/step - loss: 0.4988 - accuracy: 0.8415 - val_loss: 0.7765 - val_accuracy: 0.7784\n",
            "\n",
            "Epoch 00030: val_loss improved from 0.77927 to 0.77650, saving model to Models/ResNet152V2/fine_tune_model_best.hdf5\n"
          ],
          "name": "stdout"
        }
      ]
    },
    {
      "cell_type": "code",
      "metadata": {
        "id": "tR2bhKvf7Kj0"
      },
      "source": [
        "acc += history_fine.history['accuracy']\n",
        "loss += history_fine.history['loss']\n",
        "val_acc += history_fine.history['val_accuracy']\n",
        "val_loss += history_fine.history['val_loss']"
      ],
      "execution_count": null,
      "outputs": []
    },
    {
      "cell_type": "code",
      "metadata": {
        "colab": {
          "base_uri": "https://localhost:8080/",
          "height": 350
        },
        "id": "cfjB7jVk6Vjd",
        "outputId": "709418a7-1bf5-4c88-b1cb-34e1dd0e258e"
      },
      "source": [
        "plt.figure(figsize=(20, 5))\n",
        "plt.subplot(1, 2, 1)\n",
        "plt.plot(acc, label='Training Accuracy')\n",
        "plt.plot(val_acc, label='Validation Accuracy')\n",
        "plt.ylim([min(plt.ylim()), 1])\n",
        "plt.plot([INITIAL_EPOCHS - 6, INITIAL_EPOCHS - 6], plt.ylim(), label='Start Fine Tuning')\n",
        "plt.legend(loc='lower right')\n",
        "plt.title('Training and Validation Accuracy')\n",
        "\n",
        "plt.subplot(1, 2, 2)\n",
        "plt.plot(loss, label='Training Loss')\n",
        "plt.plot(val_loss, label='Validation Loss')\n",
        "plt.ylim([min(plt.ylim()), max(plt.ylim())])\n",
        "plt.plot([INITIAL_EPOCHS - 6, INITIAL_EPOCHS - 6], plt.ylim(), label='Start Fine Tuning')\n",
        "plt.legend(loc='upper right')\n",
        "plt.title('Training and Validation Loss')\n",
        "plt.xlabel('epoch')\n",
        "plt.savefig(FINE_TUNE_MODE_FIG)\n",
        "plt.show()"
      ],
      "execution_count": null,
      "outputs": [
        {
          "output_type": "display_data",
          "data": {
            "image/png": "[encoded data removed]",
            "text/plain": [
              "<Figure size 1440x360 with 2 Axes>"
            ]
          },
          "metadata": {
            "tags": [],
            "needs_background": "light"
          }
        }
      ]
    },
    {
      "cell_type": "markdown",
      "metadata": {
        "id": "o__Nz-Wbl1jW"
      },
      "source": [
        "# Evaluation"
      ]
    },
    {
      "cell_type": "code",
      "metadata": {
        "colab": {
          "base_uri": "https://localhost:8080/"
        },
        "id": "obJpFrio7Nye",
        "outputId": "1ce86556-7af6-4d05-97f0-7cffee211145"
      },
      "source": [
        "loss, accuracy = model.evaluate(generated_test_data)\n",
        "print('Test accuracy:', accuracy)"
      ],
      "execution_count": null,
      "outputs": [
        {
          "output_type": "stream",
          "text": [
            "158/158 [==============================] - 97s 586ms/step - loss: 0.7758 - accuracy: 0.7754\n",
            "Test accuracy: 0.7753968238830566\n"
          ],
          "name": "stdout"
        }
      ]
    },
    {
      "cell_type": "code",
      "metadata": {
        "id": "YbIEVXDXA2Bc"
      },
      "source": [
        "import gc\n",
        "del model\n",
        "gc.collect()"
      ],
      "execution_count": null,
      "outputs": []
    }
  ]
}